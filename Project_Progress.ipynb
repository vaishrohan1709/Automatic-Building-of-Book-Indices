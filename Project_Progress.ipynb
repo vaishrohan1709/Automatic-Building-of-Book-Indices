{
 "cells": [
  {
   "cell_type": "code",
   "execution_count": 2,
   "metadata": {},
   "outputs": [],
   "source": [
    "import re\n",
    "from textblob import TextBlob\n",
    "import nltk\n",
    "import json\n",
    "import pandas \n",
    "import csv\n",
    "import matplotlib.pyplot as plt\n"
   ]
  },
  {
   "cell_type": "code",
   "execution_count": 3,
   "metadata": {
    "collapsed": true
   },
   "outputs": [],
   "source": [
    "from collections import Counter\n",
    "import io\n",
    "import re\n",
    "import string\n",
    "from nltk.corpus import stopwords\n",
    "from nltk.tokenize import word_tokenize\n"
   ]
  },
  {
   "cell_type": "code",
   "execution_count": 10,
   "metadata": {
    "scrolled": false
   },
   "outputs": [],
   "source": [
    "def applyRegexps(text, listRegExp):\n",
    "    \"\"\" Applies successively many regexps to a text\"\"\"\n",
    "    for element in listRegExp:\n",
    "        left = element['expr']\n",
    "        right = element['subs']\n",
    "        r=re.compile(left)\n",
    "        text=r.sub(right,text)\n",
    "    return text\n",
    "\n",
    "def detex(latexText):\n",
    "    \"\"\"Transform a latex text into a simple text\"\"\"    \n",
    "    regexps=[]\n",
    "    text=latexText\n",
    "    # remove all the contents of the header, ie everything before the first occurence of \"\\begin{document}\"\n",
    "    text = re.sub(r\"(?s).*?(\\\\begin\\{document\\})\", \" \", text, 1)\n",
    "    \n",
    "    # remove comments\n",
    "    regexps.append({r'expr':r'([^\\\\])%.*', 'subs':r'\\1 '})\n",
    "    text= applyRegexps(text, regexps)\n",
    "    regexps=[]\n",
    "    text = text.replace(\"\\n\", \" \")\n",
    "    # - replace some LaTeX commands by the contents inside curly rackets\n",
    "    \n",
    "    q = re.compile(r'\\$\\$(.*?)\\$\\$')\n",
    "    text = re.sub(q, ' ', text)\n",
    "    r = re.compile(r'\\$(.*?)\\$')\n",
    "    text = re.sub(r, ' ', text)\n",
    "    text = text.replace(\"\\index\", \" \")\n",
    "    \n",
    "    r = re.compile(r'\\\\begin{equation}(.*?)\\\\end{equation}')\n",
    "    text = re.sub(r, ' ', text)\n",
    "    \n",
    "    \n",
    "    to_reduce = [r'\\\\emph', r'\\\\textbf', r'\\\\textit', r'\\\\text', r'\\\\IEEEauthorblockA', \n",
    "                 r'\\\\IEEEauthorblockN', r'\\\\author', r'\\\\caption', r'\\\\thanks']\n",
    "    for tag in to_reduce:\n",
    "      regexps.append({'expr':tag+r'\\{([^\\}\\{]*)\\}', 'subs':r' \\1 '})\n",
    "    text= applyRegexps(text, regexps)\n",
    "    regexps=[]\n",
    "\n",
    "    # - replace some LaTeX commands by the contents inside curly brackets and highlight these contents\n",
    "    to_highlight = [r'\\\\part[\\*]*', r'\\\\chapter[\\*]*', r'\\\\section[\\*]*', r'\\\\subsection[\\*]*', \n",
    "                    r'\\\\subsubsection[\\*]*', r'\\\\paragraph[\\*]*'];\n",
    "    # highlightment pattern: #--content--#\n",
    "    for tag in to_highlight:\n",
    "      regexps.append({'expr':tag+r'\\{([^\\}\\{]*)\\}','subs':r'\\n\\1 \\n'})\n",
    "    # highlightment pattern: [content]\n",
    "    to_highlight = [r'\\\\title',r'\\\\author',r'\\\\thanks',r'\\\\cite', r'\\\\ref'];\n",
    "    for tag in to_highlight:\n",
    "      regexps.append({'expr':tag+r'\\{([^\\}\\{]*)\\}','subs':r'\\1 '})\n",
    "    text= applyRegexps(text, regexps)\n",
    "    regexps=[]\n",
    "    \n",
    "\n",
    "    # remove LaTeX tags\n",
    "    # - remove completely some LaTeX commands that take arguments\n",
    "    to_remove = [r'\\\\vspace', r'\\\\medskipamount', r'\\\\hspace', r'\\\\tableofcontents', r'\\\\noindent',\n",
    "                 r'\\\\maketitle',r'\\\\footnote', r'\\\\centering', r'\\\\IEEEpeerreviewmaketitle', r'\\\\Large',\n",
    "                 r'\\\\includegraphics', r'\\\\IEEEauthorrefmark', r'\\\\label', r'\\\\begin', r'\\\\maketitle',\n",
    "                 r'\\\\end', r'\\\\big', r'\\\\right', r'\\\\left', r'\\\\documentclass', \n",
    "                 r'\\\\usepackage', r'\\\\bibliographystyle', r'\\\\bibliography',  \n",
    "                 r'\\\\cline', r'\\\\multicolumn', r'\\\\printindex', r'\\\\makeindex', r'\\\\small', r'\\\\title',\n",
    "                 r'\\\\author', r'\\\\thanks', r'\\\\cite', r'\\\\ref', r'\\\\today', r'\\\\date', r'\\\\inde',\n",
    "                 r'\\\\bdf', r'\\\\edf', r'\\\\tt', r'\\\\ece', r'\\\\bce', r'\\\\la', r'\\\\ete', r'\\\\od', r'\\\\par',\n",
    "                 r'\\\\ebla', r'\\\\dd', r'\\\\d', r'\\\\ls', r'\\\\ubf', r'\\\\ble', r'\\\\od\\\\', r'\\\\ri', r'\\\\ls_', r'\\\\ga',\n",
    "                 r'\\\\ti', r'\\\\vom', r'\\\\textwidth', r'\\\\itl', r'\\\\bf', r'\\\\vy', r'\\\\een', r'\\\\ri ', r'\\\\rit',\n",
    "                 r'\\\\snos', r'\\\\plo', r'\\\\bte', r'\\\\rod', r'\\\\ele', r'\\\\bpf', r'\\\\epf', r'\\\\bbla', r'\\\\en', r'\\\\vpi',\n",
    "                 r'\\\\ben', r'\\\\nenu', r'\\\\renu', r'\\\\bcor', r'\\\\text', r'\\\\it', r'\\\\fenu', r'\\\\atc', r'\\\\bpn', \n",
    "                 r'\\\\trn', r'\\\\bpro', r'\\\\epro', r'\\\\ep', r'\\\\ima', r'\\\\ecor', r'\\\\pagebreak', r'\\\\qed', r'\\\\t',\n",
    "                 r'\\\\qe', r'\\\\bco', r'\\\\evo', r'\\\\rm', r'\\\\ata', r'\\\\em', r'\\\\index' ]\n",
    "    \n",
    "    # replace tag with options and argument by a single space\n",
    "    for tag in to_remove:\n",
    "      regexps.append({'expr':tag+r'(\\[[^\\]]*\\])*(\\{[^\\}\\{]*\\})*', 'subs':r' '})\n",
    "    text= applyRegexps(text, regexps)\n",
    "    regexps=[]\n",
    "\n",
    "    \n",
    "    # - replace some LaTeX commands by the contents inside curly rackets\n",
    "    # replace some symbols by their ascii equivalent\n",
    "    # - common symbols\n",
    "    regexps.append({'expr':r'\\\\eg(\\{\\})* *','subs':r'e.g., '})\n",
    "    regexps.append({'expr':r'\\\\ldots','subs':r' '})\n",
    "    regexps.append({'expr':r'\\\\Rightarrow','subs':r' '})\n",
    "    regexps.append({'expr':r'\\\\rightarrow','subs':r' '})\n",
    "    regexps.append({'expr':r'\\\\le','subs':r' '})\n",
    "    regexps.append({'expr':r'\\\\ge','subs':r' '})\n",
    "    regexps.append({'expr':r'\\\\_','subs':r' '})\n",
    "    regexps.append({'expr':r'\\\\\\\\','subs':r'\\n'})\n",
    "    regexps.append({'expr':r'~','subs':r' '})\n",
    "    regexps.append({'expr':r'\\\\&','subs':r' '})\n",
    "    regexps.append({'expr':r'\\\\%','subs':r' '})\n",
    "    regexps.append({'expr':r'([^\\\\])&','subs':r' \\1\\t'})\n",
    "    regexps.append({'expr':r'\\\\item','subs':r' \\t- '})\n",
    "    #regexps.append({'left':r'\\\\\\hline[ \\t]*\\\\hline','right':r'============================================='})\n",
    "    #regexps.append({'left':r'[ \\t]*\\\\hline','right':r'_____________________________________________'})\n",
    "    # - special letters\n",
    "    regexps.append({'expr':r'\\\\\\'{?\\{e\\}}?','subs':r'é'})\n",
    "    regexps.append({'expr':r'\\\\`{?\\{a\\}}?','subs':r'à'})\n",
    "    regexps.append({'expr':r'\\\\\\'{?\\{o\\}}?','subs':r'ó'})\n",
    "    regexps.append({'expr':r'\\\\\\'{?\\{a\\}}?','subs':r'á'})\n",
    "    # keep untouched the contents of the equations\n",
    "    regexps.append({'expr':r'\\$(.)\\$', 'subs':r''})\n",
    "    regexps.append({'expr':r'\\$([^\\$]*)\\$', 'subs':r''})\n",
    "    # remove the equation symbols ($)\n",
    "    regexps.append({'expr':r'([^\\\\])\\$', 'subs':r''})\n",
    "    # correct spacing problems\n",
    "    regexps.append({'expr':r' +,','subs':r' '})\n",
    "    regexps.append({'expr':r' +','subs':r' '})\n",
    "    regexps.append({'expr':r' +\\)','subs':r' '})\n",
    "    regexps.append({'expr':r'\\( +','subs':r' '})\n",
    "    regexps.append({'expr':r' +\\.','subs':r' '})    \n",
    "    # remove lonely curly brackets    \n",
    "    regexps.append({'expr':r'^([^\\{]*)\\}', 'subs':r' \\1 '})\n",
    "    regexps.append({'expr':r'([^\\\\])\\{([^\\}]*)\\}','subs':r' \\1\\2 '})\n",
    "    regexps.append({'expr':r'\\\\\\{','subs':r' '})\n",
    "    regexps.append({'expr':r'\\\\\\}','subs':r' '})\n",
    "    # strip white space characters at end of line\n",
    "    regexps.append({'expr':r'[ \\t]*\\n','subs':r'\\n'})\n",
    "    # remove consecutive blank lines\n",
    "    regexps.append({'expr':r'([ \\t]*\\n){3,}','subs':r'\\n'})\n",
    "    # apply all those regexps\n",
    "    text= applyRegexps(text, regexps)\n",
    "    regexps=[]    \n",
    "    # return the modified text\n",
    "    text = re.sub( '[\":$#&!(){}\\/.,^*`~=+_@;?]', ' ', text )\n",
    "    text = text.replace(\"'\",\" \").replace(\"[\",\" \").replace(\"]\",\" \").replace(\"\\\\\",\" \")\n",
    "    return text\n",
    "\n",
    "def generatePlainText( fname, new_fname ):\n",
    "    f = open(fname)\n",
    "    lines = f.readlines()\n",
    "    f.close()\n",
    "\n",
    "    original = r\"\"\n",
    "    for line in lines:\n",
    "        original += line\n",
    "\n",
    "    finalText=detex(original)\n",
    "    #print(finalText)\n",
    "    f = open(new_fname,\"w\")  \n",
    "    f.write(finalText) \n",
    "    f.close()\n",
    "    \n",
    "generatePlainText(\"Tex_Files/1.txt\", \"PlainText/1.txt\")\n",
    "generatePlainText(\"Tex_Files/2.txt\", \"PlainText/2.txt\")\n",
    "generatePlainText(\"Tex_Files/3.txt\", \"PlainText/3.txt\")\n",
    "generatePlainText(\"Tex_Files/4.txt\", \"PlainText/4.txt\")\n",
    "generatePlainText(\"Tex_Files/5.txt\", \"PlainText/5.txt\")\n",
    "generatePlainText(\"Tex_Files/6.txt\", \"PlainText/6.txt\")\n",
    "generatePlainText(\"Tex_Files/7.txt\", \"PlainText/7.txt\")\n",
    "generatePlainText(\"Tex_Files/8.txt\", \"PlainText/8.txt\")\n",
    "generatePlainText(\"Tex_Files/9.txt\", \"PlainText/9.txt\")\n",
    "generatePlainText(\"Tex_Files/10.txt\", \"PlainText/10.txt\")\n",
    "generatePlainText(\"Tex_Files/11.txt\", \"PlainText/11.txt\")"
   ]
  },
  {
   "cell_type": "code",
   "execution_count": 12,
   "metadata": {
    "collapsed": true
   },
   "outputs": [],
   "source": [
    "set(stopwords.words('english'))\n",
    "stop_words=stopwords.words('english')\n",
    "new_stopwords=['in','may','said','a','about','above','after','again','against','all','am','an','and','any','are','arent','as','at','be','because','been','before','being','below','between','both','but','by','cant','cannot','could','couldnt','did','didnt','do','does','doesnt','doing','dont','down','during','each','few','for','from','further','had','hadnt','has','hasnt','have','havent','having','he','hed','hell','hes','her','here','heres','hers','herself','him','himself','his','how','hows','i','id','ill','im','ive','if','in','into','is','isnt','it','its','its','itself','lets','me','more','most','mustnt','my','myself','no','nor','not','of','off','on','once','only','or','other','ought','our','ours\tourselves','out','over','own','same','shant','she','shed','shell','shes','should','shouldnt','so','some','such','than','that','thats','the','their','theirs','them','themselves','then','there','theres','these','they','theyd','theyll','theyre','theyve','this','those','through','to','too','under','until','up','very','was','wasnt','we','wed','well','were','weve','were','werent','what','whats','when','whens','where','wheres','which','while','who','whos','whom','why','whys','with','wont','would','wouldnt','you','youd','youll','youre','youve','your','yours','yourself','yourselves'] \n",
    "#enter the extra words to be filtered as stop words\n",
    "for sw in new_stopwords:\n",
    "    stop_words.append(sw)"
   ]
  },
  {
   "cell_type": "code",
   "execution_count": 16,
   "metadata": {
    "collapsed": true
   },
   "outputs": [],
   "source": [
    "file1 = open(\"/Users/pradeepkumarnama/Desktop/CSE519-2017-Project-master/PlainText/1.txt\")\n",
    "line = file1.read()\n",
    "words =line.lower().split()\n",
    "#acceptable_characters =string.digits\n",
    "for r in words:\n",
    "    r=re.sub('[^a-zA-Z0-9-_*.]', '', r)\n",
    "    if not r in stop_words:\n",
    "        #r=re.sub('[^a-zA-Z0-9-_*]', '', r)\n",
    "        #filter(lambda c: c in acceptable_characters, r)\n",
    "        appendFile = open('/Users/pradeepkumarnama/Desktop/CSE519-2017-Project-master/PlainText/1.txt','a')\n",
    "        #print(\" \"+r)\n",
    "        appendFile.write(\" \"+r)\n",
    "        appendFile.close"
   ]
  },
  {
   "cell_type": "code",
   "execution_count": 4,
   "metadata": {
    "collapsed": true
   },
   "outputs": [],
   "source": [
    "def top_10_rank(finalText, n):\n",
    "    list = []\n",
    "    text = nltk.word_tokenize(finalText)\n",
    "    list = nltk.pos_tag(text)\n",
    "    list1 = []\n",
    "    for a in list:\n",
    "        if a[1] == 'NN'or a[1] == 'NNP' or a[1] == 'NNS' or a[1] == 'JJ':\n",
    "            list1.append(a[0])\n",
    "    word_freq = {}\n",
    "    for word in list1:\n",
    "        if word in word_freq:\n",
    "            word_freq[word]+=1\n",
    "        else:\n",
    "            word_freq[word] = 1\n",
    "    dict = {}\n",
    "    rank = Counter(word_freq)\n",
    "    rank.most_common()\n",
    "    for k, v in rank.most_common(n):\n",
    "        print('%s: %i' % (k, v))\n",
    "        dict[k] = v\n",
    "    with open('/Users/pradeepkumarnama/Desktop/CSE519-2017-Project-master/Top_10_words.txt', 'w') as file:\n",
    "        file.write(json.dumps(dict))  \n",
    "\n",
    "\n",
    "   \n",
    "        "
   ]
  },
  {
   "cell_type": "code",
   "execution_count": 5,
   "metadata": {},
   "outputs": [
    {
     "name": "stdout",
     "output_type": "stream",
     "text": [
      "Enter number of keywords: 10\n",
      "generic: 102\n",
      "set: 85\n",
      "Lemma: 49\n",
      "sets: 39\n",
      "such: 38\n",
      "and\\: 38\n",
      "\\: 29\n",
      "Let: 24\n",
      "pair: 24\n",
      "if\\: 23\n"
     ]
    }
   ],
   "source": [
    "num = int(input(\"Enter number of keywords: \"))\n",
    "top_10_rank(finalText,num)"
   ]
  },
  {
   "cell_type": "code",
   "execution_count": 6,
   "metadata": {
    "collapsed": true
   },
   "outputs": [],
   "source": [
    "def find_keyword(test_string,n):\n",
    "    list = []\n",
    "    text = nltk.word_tokenize(finalText)\n",
    "    list = nltk.pos_tag(text)\n",
    "    list1 = []\n",
    "    for a in list:\n",
    "        if a[1] == 'NN'or a[1] == 'NNP' or a[1] == 'NNS' or a[1] == 'JJ':\n",
    "            list1.append(a[0])\n",
    "    word_freq = {}\n",
    "    for word in list1:\n",
    "        if word in word_freq:\n",
    "            word_freq[word]+=1\n",
    "        else:\n",
    "            word_freq[word] = 1\n",
    "    word_prob_dict = {}\n",
    "    size_corpus = len(list1)\n",
    "    for word in word_freq:\n",
    "        word_prob_dict[word] = float(word_freq[word])/size_corpus\n",
    "\n",
    "    prob_list = []\n",
    "    for word, prob in word_prob_dict.items():\n",
    "         prob_list.append(prob)\n",
    "    non_exist_prob = min(prob_list)/2\n",
    "\n",
    "    words = test_string.split()\n",
    "    test_word_freq = {}\n",
    "    for word in words:\n",
    "        if word in test_word_freq:\n",
    "            test_word_freq[word]+=1\n",
    "        else:\n",
    "            test_word_freq[word] = 1\n",
    "\n",
    "    test_words_ba = {}\n",
    "    for word, freq in test_word_freq.items():\n",
    "        if word in word_prob_dict:\n",
    "            test_words_ba[word] = freq/word_prob_dict[word]\n",
    "        else:\n",
    "            test_words_ba[word] = freq/non_exist_prob\n",
    "\n",
    "    test_word_ba_list = []\n",
    "    for word, ba in test_words_ba.items():\n",
    "         test_word_ba_list.append((word, ba))\n",
    "\n",
    "    def sort_func(a, b):\n",
    "        if a[1] > b[1]:\n",
    "           return -1\n",
    "        elif a[1] < b[1]:\n",
    "            return 1\n",
    "            return 0\n",
    "\n",
    "    return test_word_ba_list[:n]"
   ]
  },
  {
   "cell_type": "code",
   "execution_count": 7,
   "metadata": {},
   "outputs": [
    {
     "data": {
      "text/plain": [
       "[('OD', 1989.0),\n",
       " ('elements', 2273.142857142857),\n",
       " ('of', 477360.00000000006),\n",
       " ('countable', 1988.9999999999998),\n",
       " ('sets', 1989.0),\n",
       " ('in', 377910.00000000006),\n",
       " ('the', 712062.0000000001),\n",
       " ('Solovay', 1989.0000000000002),\n",
       " ('model', 2099.5),\n",
       " ('Vladimir', 1989.0000000000002)]"
      ]
     },
     "execution_count": 7,
     "metadata": {},
     "output_type": "execute_result"
    }
   ],
   "source": [
    "find_keyword(finalText,10)"
   ]
  },
  {
   "cell_type": "code",
   "execution_count": 19,
   "metadata": {
    "collapsed": true
   },
   "outputs": [],
   "source": [
    "def extract_key_words():\n",
    "    lines = []\n",
    "    updated_list = []\n",
    "    file1 = open(\"/Users/pradeepkumarnama/Desktop/CSE519-2017-Project-master/Tex_Files/1.txt\",\"r\")\n",
    "    for line in file1:\n",
    "        if line.startswith('\\index'):\n",
    "            lines.append(line.strip())\n",
    "    for element in lines:\n",
    "        element = str(element)\n",
    "        element = element.replace(\"%\", \" \")\n",
    "        element = element.replace(\"\\index{\", \" \")\n",
    "        element = element.replace(\"}\", \" \")\n",
    "        if re.match(\"^[a-zA-Z0-9 !-]*$\", element):\n",
    "            updated_list.append(element)\n",
    "    for x in updated_list:\n",
    "        print(x +\",\" + \"1\")\n",
    "\n",
    "\n",
    "        \n",
    "\n",
    "  \n",
    "    \n",
    "    \n",
    "    \n",
    "   "
   ]
  },
  {
   "cell_type": "code",
   "execution_count": 20,
   "metadata": {},
   "outputs": [
    {
     "name": "stdout",
     "output_type": "stream",
     "text": [
      " Solovay model ,1\n",
      " double-name ,1\n",
      " set!dense ,1\n",
      " set!open ,1\n",
      " name!full  ,1\n",
      " double-name!full  ,1\n",
      " name!regular  ,1\n",
      " double-name!regular  ,1\n",
      " regular hull  ,1\n",
      " name!equivalent  ,1\n",
      " double-name!equivalent  ,1\n",
      " extends  ,1\n"
     ]
    }
   ],
   "source": [
    "extract_key_words()"
   ]
  },
  {
   "cell_type": "code",
   "execution_count": 21,
   "metadata": {},
   "outputs": [
    {
     "name": "stdout",
     "output_type": "stream",
     "text": [
      "['rohan', '6']\n",
      "rohan 6\n",
      "['raghav', '7']\n",
      "raghav 7\n",
      "['ayes', '10']\n",
      "ayes 10\n",
      "['harsha', '87']\n",
      "harsha 87\n",
      "['maninder', '45']\n",
      "maninder 45\n",
      "['ayush', '2']\n",
      "ayush 2\n",
      "['neelaabh', '34']\n",
      "neelaabh 34\n",
      "['taken', '89']\n",
      "taken 89\n",
      "['skeina', '23']\n",
      "skeina 23\n",
      "['ferdman', '23']\n",
      "ferdman 23\n",
      "['dude', '94']\n",
      "dude 94\n",
      "['joy', '12']\n",
      "joy 12\n",
      "['koler', '56']\n",
      "koler 56\n",
      "Enter number of trials: 3\n",
      "Enter number of indices: 15\n",
      "Number of matches: 7\n",
      "Percentage matches: 50.0\n",
      "[53.84615384615385]\n",
      "[1]\n"
     ]
    },
    {
     "data": {
      "image/png": "[encoded data removed]",
      "text/plain": [
       "<matplotlib.figure.Figure at 0x11e9dd588>"
      ]
     },
     "metadata": {},
     "output_type": "display_data"
    },
    {
     "name": "stdout",
     "output_type": "stream",
     "text": [
      "Enter number of indices: 10\n",
      "Number of matches: 5\n",
      "Percentage matches: 35.714285714285715\n",
      "[53.84615384615385, 38.46153846153846]\n",
      "[1, 2]\n"
     ]
    },
    {
     "data": {
      "image/png": "[encoded data removed]",
      "text/plain": [
       "<matplotlib.figure.Figure at 0x11e9e6e48>"
      ]
     },
     "metadata": {},
     "output_type": "display_data"
    },
    {
     "name": "stdout",
     "output_type": "stream",
     "text": [
      "Enter number of indices: 25\n",
      "Number of matches: 7\n",
      "Percentage matches: 50.0\n",
      "[53.84615384615385, 38.46153846153846, 53.84615384615385]\n",
      "[1, 2, 3]\n"
     ]
    },
    {
     "data": {
      "image/png": "[encoded data removed]",
      "text/plain": [
       "<matplotlib.figure.Figure at 0x1221f66d8>"
      ]
     },
     "metadata": {},
     "output_type": "display_data"
    }
   ],
   "source": [
    "with open('/Users/pradeepkumarnama/Desktop/cse519/CSE519-2017-111447596-master/code/table.txt') as fin:\n",
    "     d = {}\n",
    "     for line in fin:\n",
    "            rows=line.split(',')\n",
    "            rows[-1] = rows[-1].strip()\n",
    "            print(rows)\n",
    "            d[rows[0]] = rows[1]\n",
    "            print(rows[0],rows[1])\n",
    "count=0    \n",
    "num_lines = sum(1 for line in open('/Users/pradeepkumarnama/Desktop/cse519/CSE519-2017-111447596-master/code/tabletest.txt'))\n",
    "num_lines_OF=sum(1 for line in open('/Users/pradeepkumarnama/Desktop/cse519/CSE519-2017-111447596-master/code/table.txt'))\n",
    "trials=int(input(\"Enter number of trials: \"))\n",
    "mylist=[]\n",
    "mylist1=[]\n",
    "for i in range(0,trials):\n",
    "    mylist1.append(i+1)\n",
    "    num = int(input(\"Enter number of indices: \"))\n",
    "    with open('/Users/pradeepkumarnama/Desktop/cse519/CSE519-2017-111447596-master/code/tabletest.txt') as fin1:\n",
    "        for j in range(0,min(num_lines,num)):\n",
    "            line=fin1.readline()\n",
    "            rows=line.split(',')\n",
    "            rows[-1] = rows[-1].strip()\n",
    "            if rows[0] in d :\n",
    "                count=count+1\n",
    "    print('Number of matches:' , count)\n",
    "    print('Percentage matches:', count*100/num_lines)\n",
    "    mylist.append(count*100/num_lines_OF)\n",
    "    count=0\n",
    "    print(mylist)\n",
    "    print(mylist1)\n",
    "    plt.xlabel('Number of Indices')\n",
    "    plt.ylabel('Percentage match')\n",
    "    plt.bar(mylist1,mylist,width=0.3)\n",
    "    plt.show() \n",
    "#plt.show()    \n",
    "\n",
    "            \n"
   ]
  },
  {
   "cell_type": "code",
   "execution_count": null,
   "metadata": {
    "collapsed": true
   },
   "outputs": [],
   "source": []
  }
 ],
 "metadata": {
  "kernelspec": {
   "display_name": "Python 3",
   "language": "python",
   "name": "python3"
  },
  "language_info": {
   "codemirror_mode": {
    "name": "ipython",
    "version": 3
   },
   "file_extension": ".py",
   "mimetype": "text/x-python",
   "name": "python",
   "nbconvert_exporter": "python",
   "pygments_lexer": "ipython3",
   "version": "3.6.1"
  }
 },
 "nbformat": 4,
 "nbformat_minor": 2
}
